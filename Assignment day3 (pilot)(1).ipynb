{
 "cells": [
  {
   "cell_type": "code",
   "execution_count": 1,
   "metadata": {},
   "outputs": [
    {
     "name": "stdout",
     "output_type": "stream",
     "text": [
      "999\n",
      "safer to land\n"
     ]
    }
   ],
   "source": [
    "alti=input()\n",
    "alti=int(alti)\n",
    "if alti<=1000:\n",
    "    print(\"safer to land\")\n",
    "elif alti<=5000:\n",
    "    print(\"Come Down to 1000 feet\")\n",
    "else:\n",
    "    print(\"Turn around\")"
   ]
  },
  {
   "cell_type": "code",
   "execution_count": 2,
   "metadata": {},
   "outputs": [
    {
     "name": "stdout",
     "output_type": "stream",
     "text": [
      "4999\n",
      "Come Down to 1000 feet\n"
     ]
    }
   ],
   "source": [
    "alti=input()\n",
    "alti=int(alti)\n",
    "if alti<=1000:\n",
    "    print(\"safer to land\")\n",
    "elif alti<=5000:\n",
    "    print(\"Come Down to 1000 feet\")\n",
    "else:\n",
    "    print(\"Turn around\")"
   ]
  },
  {
   "cell_type": "code",
   "execution_count": 3,
   "metadata": {},
   "outputs": [
    {
     "name": "stdout",
     "output_type": "stream",
     "text": [
      "5001\n",
      "Turn around\n"
     ]
    }
   ],
   "source": [
    "alti=input()\n",
    "alti=int(alti)\n",
    "if alti<=1000:\n",
    "    print(\"safer to land\")\n",
    "elif alti<=5000:\n",
    "    print(\"Come Down to 1000 feet\")\n",
    "else:\n",
    "    print(\"Turn around\")"
   ]
  },
  {
   "cell_type": "markdown",
   "metadata": {},
   "source": [
    "# Assignment 2\n"
   ]
  },
  {
   "cell_type": "code",
   "execution_count": 38,
   "metadata": {},
   "outputs": [
    {
     "name": "stdout",
     "output_type": "stream",
     "text": [
      "3  5  7  9  11  13  15  17  19  21  23  25  27  29  31  33  35  37  39  41  43  45  47  49  51  53  55  57  59  61  63  65  67  69  71  73  75  77  79  81  83  85  87  89  91  93  95  97  99  101  103  105  107  109  111  113  115  117  119  121  123  125  127  129  131  133  135  137  139  141  143  145  147  149  151  153  155  157  159  161  163  165  167  169  171  173  175  177  179  181  183  185  187  189  191  193  195  197  199  "
     ]
    }
   ],
   "source": [
    "for i in range(1,201):\n",
    "    if i>1:\n",
    "        for j in range(2,i):\n",
    "            if i%j==0:\n",
    "                break\n",
    "            else:\n",
    "                print(i,end=\"  \")\n",
    "                break"
   ]
  },
  {
   "cell_type": "code",
   "execution_count": null,
   "metadata": {},
   "outputs": [],
   "source": []
  },
  {
   "cell_type": "code",
   "execution_count": null,
   "metadata": {},
   "outputs": [],
   "source": []
  }
 ],
 "metadata": {
  "kernelspec": {
   "display_name": "Python 3",
   "language": "python",
   "name": "python3"
  },
  "language_info": {
   "codemirror_mode": {
    "name": "ipython",
    "version": 3
   },
   "file_extension": ".py",
   "mimetype": "text/x-python",
   "name": "python",
   "nbconvert_exporter": "python",
   "pygments_lexer": "ipython3",
   "version": "3.8.3"
  }
 },
 "nbformat": 4,
 "nbformat_minor": 4
}
